{
 "cells": [
  {
   "cell_type": "markdown",
   "id": "07b36869",
   "metadata": {},
   "source": [
    "                  # Loan_Approval_Prediction-Decision_Tree_and_Random_Forest                     "
   ]
  }
 ],
 "metadata": {
  "language_info": {
   "name": "python"
  }
 },
 "nbformat": 4,
 "nbformat_minor": 5
}
