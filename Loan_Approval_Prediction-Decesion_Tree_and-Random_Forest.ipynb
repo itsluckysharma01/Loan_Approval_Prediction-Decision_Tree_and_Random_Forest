{
 "cells": [
  {
   "cell_type": "markdown",
   "id": "07b36869",
   "metadata": {},
   "source": [
    "                  # Loan_Approval_Prediction-Decision_Tree_and_Random_Forest                     "
   ]
  },
  {
   "cell_type": "markdown",
   "id": "679c5efb",
   "metadata": {},
   "source": [
    "### We are going to predict whether a loan will be approved or not based on various features using Decision Tree and Random Forest algorithms."
   ]
  },
  {
   "cell_type": "markdown",
   "id": "d1ff805c",
   "metadata": {},
   "source": [
    "we will use the following steps:\n",
    "1. Data Preprocessing\n",
    "2. Feature Selection\n",
    "3. Model Training\n",
    "4. Model Evaluation\n"
   ]
  },
  {
   "cell_type": "markdown",
   "id": "af9c91a9",
   "metadata": {},
   "source": [
    "# Importing Necessary Libraries"
   ]
  },
  {
   "cell_type": "code",
   "execution_count": null,
   "id": "5938c468",
   "metadata": {
    "vscode": {
     "languageId": "plaintext"
    }
   },
   "outputs": [],
   "source": [
    "import pandas as pd\n",
    "import numpy as np"
   ]
  },
  {
   "cell_type": "code",
   "execution_count": null,
   "id": "3d0f54d0",
   "metadata": {
    "vscode": {
     "languageId": "plaintext"
    }
   },
   "outputs": [],
   "source": []
  },
  {
   "cell_type": "code",
   "execution_count": null,
   "id": "ef6bdd1f",
   "metadata": {
    "vscode": {
     "languageId": "plaintext"
    }
   },
   "outputs": [],
   "source": [
    "df = pd.read_csv('https://raw.githubusercontent.com/itsluckysharma01/Datasets/refs/heads/main/loan_approval_dataset.csv')"
   ]
  }
 ],
 "metadata": {
  "language_info": {
   "name": "python"
  }
 },
 "nbformat": 4,
 "nbformat_minor": 5
}
